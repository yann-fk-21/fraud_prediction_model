{
 "cells": [
  {
   "cell_type": "code",
   "id": "initial_id",
   "metadata": {
    "collapsed": true,
    "ExecuteTime": {
     "end_time": "2025-02-18T13:53:25.636675Z",
     "start_time": "2025-02-18T13:53:25.185125Z"
    }
   },
   "source": [
    "import pandas as pd\n",
    "\n",
    "from sklearn.neighbors import KNeighborsClassifier\n",
    "from sklearn.linear_model import LogisticRegression\n",
    "from sklearn.svm import SVC\n",
    "import joblib\n",
    "\n",
    "from src.data.data_load import load_csv\n",
    "from src.models.data_prep import data_preparation\n",
    "from src.models.train_model import train_model\n",
    "from  src.models.train_model import fine_tuning_model\n",
    "from src.models.test_model import model_val_accuracy\n",
    "from src.models.test_model import model_accuracy\n",
    "from src.models.utils_model import save_model\n"
   ],
   "outputs": [],
   "execution_count": 27
  },
  {
   "metadata": {},
   "cell_type": "markdown",
   "source": "### Data preparation",
   "id": "733cdf346cf46033"
  },
  {
   "metadata": {
    "ExecuteTime": {
     "end_time": "2025-02-18T13:40:29.695645Z",
     "start_time": "2025-02-18T13:40:29.591612Z"
    }
   },
   "cell_type": "code",
   "source": "fraud_data = load_csv(\"../data/processed/fraud_data_v2025-02-18_0.23068032562127705.csv\")",
   "id": "db5b143262940fcc",
   "outputs": [],
   "execution_count": 4
  },
  {
   "metadata": {
    "ExecuteTime": {
     "end_time": "2025-02-18T13:40:29.788198Z",
     "start_time": "2025-02-18T13:40:29.766980Z"
    }
   },
   "cell_type": "code",
   "source": "fraud_data.shape",
   "id": "74375b163b138c28",
   "outputs": [
    {
     "data": {
      "text/plain": [
       "(14380, 8)"
      ]
     },
     "execution_count": 5,
     "metadata": {},
     "output_type": "execute_result"
    }
   ],
   "execution_count": 5
  },
  {
   "metadata": {
    "ExecuteTime": {
     "end_time": "2025-02-18T13:40:29.898654Z",
     "start_time": "2025-02-18T13:40:29.868128Z"
    }
   },
   "cell_type": "code",
   "source": "fraud_data.head()",
   "id": "6d305bb84ff576d2",
   "outputs": [
    {
     "data": {
      "text/plain": [
       "   trans_time     amt      lat      long  city_pop  merch_lat  merch_long  \\\n",
       "0           0   14.37  64.7556 -165.6723       145  65.654142 -164.722603   \n",
       "1          15  966.11  64.7556 -165.6723       145  65.468863 -165.473127   \n",
       "2          22   49.61  64.7556 -165.6723       145  65.347667 -165.914542   \n",
       "3          23  295.26  64.7556 -165.6723       145  64.445035 -166.080207   \n",
       "4          23   18.17  64.7556 -165.6723       145  65.447094 -165.446843   \n",
       "\n",
       "   is_fraud  \n",
       "0         1  \n",
       "1         1  \n",
       "2         1  \n",
       "3         1  \n",
       "4         1  "
      ],
      "text/html": [
       "<div>\n",
       "<style scoped>\n",
       "    .dataframe tbody tr th:only-of-type {\n",
       "        vertical-align: middle;\n",
       "    }\n",
       "\n",
       "    .dataframe tbody tr th {\n",
       "        vertical-align: top;\n",
       "    }\n",
       "\n",
       "    .dataframe thead th {\n",
       "        text-align: right;\n",
       "    }\n",
       "</style>\n",
       "<table border=\"1\" class=\"dataframe\">\n",
       "  <thead>\n",
       "    <tr style=\"text-align: right;\">\n",
       "      <th></th>\n",
       "      <th>trans_time</th>\n",
       "      <th>amt</th>\n",
       "      <th>lat</th>\n",
       "      <th>long</th>\n",
       "      <th>city_pop</th>\n",
       "      <th>merch_lat</th>\n",
       "      <th>merch_long</th>\n",
       "      <th>is_fraud</th>\n",
       "    </tr>\n",
       "  </thead>\n",
       "  <tbody>\n",
       "    <tr>\n",
       "      <th>0</th>\n",
       "      <td>0</td>\n",
       "      <td>14.37</td>\n",
       "      <td>64.7556</td>\n",
       "      <td>-165.6723</td>\n",
       "      <td>145</td>\n",
       "      <td>65.654142</td>\n",
       "      <td>-164.722603</td>\n",
       "      <td>1</td>\n",
       "    </tr>\n",
       "    <tr>\n",
       "      <th>1</th>\n",
       "      <td>15</td>\n",
       "      <td>966.11</td>\n",
       "      <td>64.7556</td>\n",
       "      <td>-165.6723</td>\n",
       "      <td>145</td>\n",
       "      <td>65.468863</td>\n",
       "      <td>-165.473127</td>\n",
       "      <td>1</td>\n",
       "    </tr>\n",
       "    <tr>\n",
       "      <th>2</th>\n",
       "      <td>22</td>\n",
       "      <td>49.61</td>\n",
       "      <td>64.7556</td>\n",
       "      <td>-165.6723</td>\n",
       "      <td>145</td>\n",
       "      <td>65.347667</td>\n",
       "      <td>-165.914542</td>\n",
       "      <td>1</td>\n",
       "    </tr>\n",
       "    <tr>\n",
       "      <th>3</th>\n",
       "      <td>23</td>\n",
       "      <td>295.26</td>\n",
       "      <td>64.7556</td>\n",
       "      <td>-165.6723</td>\n",
       "      <td>145</td>\n",
       "      <td>64.445035</td>\n",
       "      <td>-166.080207</td>\n",
       "      <td>1</td>\n",
       "    </tr>\n",
       "    <tr>\n",
       "      <th>4</th>\n",
       "      <td>23</td>\n",
       "      <td>18.17</td>\n",
       "      <td>64.7556</td>\n",
       "      <td>-165.6723</td>\n",
       "      <td>145</td>\n",
       "      <td>65.447094</td>\n",
       "      <td>-165.446843</td>\n",
       "      <td>1</td>\n",
       "    </tr>\n",
       "  </tbody>\n",
       "</table>\n",
       "</div>"
      ]
     },
     "execution_count": 6,
     "metadata": {},
     "output_type": "execute_result"
    }
   ],
   "execution_count": 6
  },
  {
   "metadata": {
    "ExecuteTime": {
     "end_time": "2025-02-18T13:40:30.111092Z",
     "start_time": "2025-02-18T13:40:30.044193Z"
    }
   },
   "cell_type": "code",
   "source": "(X_train, y_train), (X_val, y_val), (X_test, y_test) = data_preparation(data=fraud_data, target=\"is_fraud\")",
   "id": "326620f5eb7b1f19",
   "outputs": [],
   "execution_count": 7
  },
  {
   "metadata": {
    "ExecuteTime": {
     "end_time": "2025-02-18T13:40:30.213652Z",
     "start_time": "2025-02-18T13:40:30.199669Z"
    }
   },
   "cell_type": "code",
   "source": "X_train.shape, y_train.shape",
   "id": "57ecd3ca9da415fd",
   "outputs": [
    {
     "data": {
      "text/plain": [
       "((11504, 7), (11504,))"
      ]
     },
     "execution_count": 8,
     "metadata": {},
     "output_type": "execute_result"
    }
   ],
   "execution_count": 8
  },
  {
   "metadata": {
    "ExecuteTime": {
     "end_time": "2025-02-18T13:40:30.422845Z",
     "start_time": "2025-02-18T13:40:30.411573Z"
    }
   },
   "cell_type": "code",
   "source": "X_val.shape, y_val.shape",
   "id": "852a2391d3eb3648",
   "outputs": [
    {
     "data": {
      "text/plain": [
       "((1438, 7), (1438,))"
      ]
     },
     "execution_count": 9,
     "metadata": {},
     "output_type": "execute_result"
    }
   ],
   "execution_count": 9
  },
  {
   "metadata": {
    "ExecuteTime": {
     "end_time": "2025-02-18T13:40:30.576961Z",
     "start_time": "2025-02-18T13:40:30.561769Z"
    }
   },
   "cell_type": "code",
   "source": "X_train",
   "id": "8355935ffdc06a7b",
   "outputs": [
    {
     "data": {
      "text/plain": [
       "array([[-1.52305517,  0.36684059, -1.29510039, ...,  3.91964644,\n",
       "        -1.32310024, -0.53106986],\n",
       "       [-1.38527176, -0.04864203,  0.19746507, ..., -0.36303183,\n",
       "         0.06953376,  1.1413922 ],\n",
       "       [-0.55857133, -0.29861756,  0.33652503, ..., -0.27165445,\n",
       "         0.36500835,  0.20081971],\n",
       "       ...,\n",
       "       [ 1.37039633, -0.33436604,  0.30212529, ..., -0.24609338,\n",
       "         0.15858207,  0.37660197],\n",
       "       [-1.66083857,  0.64979441,  1.48583307, ...,  2.52562844,\n",
       "         1.58296988, -0.85281528],\n",
       "       [-0.83413814, -0.20126561, -1.4341224 , ..., -0.36162252,\n",
       "        -1.3621358 ,  0.45095517]], shape=(11504, 7))"
      ]
     },
     "execution_count": 10,
     "metadata": {},
     "output_type": "execute_result"
    }
   ],
   "execution_count": 10
  },
  {
   "metadata": {},
   "cell_type": "markdown",
   "source": "### Training and Validation model",
   "id": "31c4c01990e40c75"
  },
  {
   "metadata": {
    "ExecuteTime": {
     "end_time": "2025-02-18T13:40:30.903184Z",
     "start_time": "2025-02-18T13:40:30.807890Z"
    }
   },
   "cell_type": "code",
   "source": "KNN_model = train_model(KNeighborsClassifier(), X_train, y_train)",
   "id": "5aa9f30c43363b54",
   "outputs": [],
   "execution_count": 11
  },
  {
   "metadata": {
    "ExecuteTime": {
     "end_time": "2025-02-18T13:40:33.022622Z",
     "start_time": "2025-02-18T13:40:31.023753Z"
    }
   },
   "cell_type": "code",
   "source": "svm_model = train_model(SVC(), X_train, y_train)",
   "id": "745cee75533b2e28",
   "outputs": [],
   "execution_count": 12
  },
  {
   "metadata": {
    "ExecuteTime": {
     "end_time": "2025-02-18T13:40:33.097110Z",
     "start_time": "2025-02-18T13:40:33.035848Z"
    }
   },
   "cell_type": "code",
   "source": "reg_log_model = train_model(LogisticRegression(), X_train, y_train)",
   "id": "b884dc8169d7fc8d",
   "outputs": [],
   "execution_count": 13
  },
  {
   "metadata": {
    "ExecuteTime": {
     "end_time": "2025-02-18T13:40:38.607613Z",
     "start_time": "2025-02-18T13:40:33.150755Z"
    }
   },
   "cell_type": "code",
   "source": [
    "knn_scores = model_val_accuracy(KNN_model, y_train, y_val, X_train, X_val)\n",
    "svm_scores = model_val_accuracy(svm_model, y_train, y_val, X_train, X_val)\n",
    "reg_log_scores = model_val_accuracy(reg_log_model, y_train, y_val, X_train, X_val)\n",
    "\n",
    "val_scores = [\n",
    "    knn_scores[0], knn_scores[1],\n",
    "    svm_scores[0], svm_scores[1],\n",
    "    reg_log_scores[0], reg_log_scores[1],\n",
    "]\n"
   ],
   "id": "c4c53ae2f4e562f4",
   "outputs": [],
   "execution_count": 14
  },
  {
   "metadata": {
    "ExecuteTime": {
     "end_time": "2025-02-18T13:40:38.658663Z",
     "start_time": "2025-02-18T13:40:38.647677Z"
    }
   },
   "cell_type": "code",
   "source": [
    "results = {\n",
    "    \"Model\": [\"KNN\", \"SVM\", \"Logistic Regression\"],\n",
    "    \"train_accuracy\": [knn_scores[0], svm_scores[0], reg_log_scores[0]],\n",
    "    \"val_accuracy\": [knn_scores[1], svm_scores[1], reg_log_scores[1]]\n",
    "}\n",
    "\n",
    "accuracy_scores = pd.DataFrame(results)"
   ],
   "id": "30a9290d8d9fb275",
   "outputs": [],
   "execution_count": 15
  },
  {
   "metadata": {
    "ExecuteTime": {
     "end_time": "2025-02-18T13:40:38.724437Z",
     "start_time": "2025-02-18T13:40:38.705269Z"
    }
   },
   "cell_type": "code",
   "source": "accuracy_scores",
   "id": "44eb2c57f0b6803a",
   "outputs": [
    {
     "data": {
      "text/plain": [
       "                 Model  train_accuracy  val_accuracy\n",
       "0                  KNN        0.960362      0.944367\n",
       "1                  SVM        0.946019      0.941586\n",
       "2  Logistic Regression        0.926026      0.911683"
      ],
      "text/html": [
       "<div>\n",
       "<style scoped>\n",
       "    .dataframe tbody tr th:only-of-type {\n",
       "        vertical-align: middle;\n",
       "    }\n",
       "\n",
       "    .dataframe tbody tr th {\n",
       "        vertical-align: top;\n",
       "    }\n",
       "\n",
       "    .dataframe thead th {\n",
       "        text-align: right;\n",
       "    }\n",
       "</style>\n",
       "<table border=\"1\" class=\"dataframe\">\n",
       "  <thead>\n",
       "    <tr style=\"text-align: right;\">\n",
       "      <th></th>\n",
       "      <th>Model</th>\n",
       "      <th>train_accuracy</th>\n",
       "      <th>val_accuracy</th>\n",
       "    </tr>\n",
       "  </thead>\n",
       "  <tbody>\n",
       "    <tr>\n",
       "      <th>0</th>\n",
       "      <td>KNN</td>\n",
       "      <td>0.960362</td>\n",
       "      <td>0.944367</td>\n",
       "    </tr>\n",
       "    <tr>\n",
       "      <th>1</th>\n",
       "      <td>SVM</td>\n",
       "      <td>0.946019</td>\n",
       "      <td>0.941586</td>\n",
       "    </tr>\n",
       "    <tr>\n",
       "      <th>2</th>\n",
       "      <td>Logistic Regression</td>\n",
       "      <td>0.926026</td>\n",
       "      <td>0.911683</td>\n",
       "    </tr>\n",
       "  </tbody>\n",
       "</table>\n",
       "</div>"
      ]
     },
     "execution_count": 16,
     "metadata": {},
     "output_type": "execute_result"
    }
   ],
   "execution_count": 16
  },
  {
   "metadata": {},
   "cell_type": "markdown",
   "source": "### Model Fine tunning",
   "id": "af30bfbf615fe538"
  },
  {
   "metadata": {
    "ExecuteTime": {
     "end_time": "2025-02-18T13:41:10.032408Z",
     "start_time": "2025-02-18T13:40:38.972494Z"
    }
   },
   "cell_type": "code",
   "source": [
    "params = {\n",
    "    'n_neighbors': [1, 2, 3, 4, 5, 6, 7, 8, 9, 10],\n",
    "    'metric': ['euclidean', 'manhattan']\n",
    "}\n",
    "KNN_estimator = fine_tuning_model(KNeighborsClassifier(), params, 5, X_train, y_train)\n",
    "KNN_final_model = KNN_estimator.best_estimator_"
   ],
   "id": "bd20ded367e4ca72",
   "outputs": [],
   "execution_count": 17
  },
  {
   "metadata": {
    "ExecuteTime": {
     "end_time": "2025-02-18T13:42:27.174689Z",
     "start_time": "2025-02-18T13:41:10.118034Z"
    }
   },
   "cell_type": "code",
   "source": [
    "params = {\n",
    "    'C': [0.1, 1],\n",
    "    'kernel': ['linear', 'rbf'],\n",
    "    'gamma': [0.1, 1],\n",
    "}\n",
    "SVM_estimator = fine_tuning_model(SVC(), params, 5, X_train, y_train)\n",
    "SVM_final_model = SVM_estimator.best_estimator_"
   ],
   "id": "8c9419590cca4cee",
   "outputs": [],
   "execution_count": 18
  },
  {
   "metadata": {
    "ExecuteTime": {
     "end_time": "2025-02-18T13:42:27.899832Z",
     "start_time": "2025-02-18T13:42:27.183330Z"
    }
   },
   "cell_type": "code",
   "source": [
    "params = {\n",
    "    'C': [1, 10, 100, 1000],\n",
    "}\n",
    "log_reg_estimator = fine_tuning_model(LogisticRegression(), params, 5, X_train, y_train)\n",
    "log_reg_final_model = log_reg_estimator.best_estimator_"
   ],
   "id": "1c0ce1d5ee504256",
   "outputs": [],
   "execution_count": 19
  },
  {
   "metadata": {
    "ExecuteTime": {
     "end_time": "2025-02-18T13:42:33.559393Z",
     "start_time": "2025-02-18T13:42:27.929654Z"
    }
   },
   "cell_type": "code",
   "source": [
    "knn_scores = model_val_accuracy(KNN_final_model, y_train, y_val, X_train, X_val)\n",
    "svm_scores = model_val_accuracy(SVM_final_model, y_train, y_val, X_train, X_val)\n",
    "reg_log_scores = model_val_accuracy(log_reg_final_model, y_train, y_val, X_train, X_val)\n",
    "\n",
    "new_val_scores = [\n",
    "    knn_scores[0], knn_scores[1],\n",
    "    svm_scores[0], svm_scores[1],\n",
    "    reg_log_scores[0], reg_log_scores[1],\n",
    "]\n"
   ],
   "id": "557bd43e35ae25cc",
   "outputs": [],
   "execution_count": 20
  },
  {
   "metadata": {
    "ExecuteTime": {
     "end_time": "2025-02-18T13:42:33.609733Z",
     "start_time": "2025-02-18T13:42:33.597444Z"
    }
   },
   "cell_type": "code",
   "source": [
    "results = {\n",
    "    \"Model\": [\"KNN\", \"SVM\", \"Logistic Regression\"],\n",
    "    \"train_accuracy\": [knn_scores[0], svm_scores[0], reg_log_scores[0]],\n",
    "    \"val_accuracy\": [knn_scores[1], svm_scores[1], reg_log_scores[1]]\n",
    "}\n",
    "\n",
    "accuracy_scores = pd.DataFrame(results)"
   ],
   "id": "9549ce4d1c69b399",
   "outputs": [],
   "execution_count": 21
  },
  {
   "metadata": {
    "ExecuteTime": {
     "end_time": "2025-02-18T13:42:33.778947Z",
     "start_time": "2025-02-18T13:42:33.743501Z"
    }
   },
   "cell_type": "code",
   "source": "accuracy_scores",
   "id": "e1ff71ad9f2f1347",
   "outputs": [
    {
     "data": {
      "text/plain": [
       "                 Model  train_accuracy  val_accuracy\n",
       "0                  KNN        0.956798      0.943672\n",
       "1                  SVM        0.959145      0.947844\n",
       "2  Logistic Regression        0.926113      0.911683"
      ],
      "text/html": [
       "<div>\n",
       "<style scoped>\n",
       "    .dataframe tbody tr th:only-of-type {\n",
       "        vertical-align: middle;\n",
       "    }\n",
       "\n",
       "    .dataframe tbody tr th {\n",
       "        vertical-align: top;\n",
       "    }\n",
       "\n",
       "    .dataframe thead th {\n",
       "        text-align: right;\n",
       "    }\n",
       "</style>\n",
       "<table border=\"1\" class=\"dataframe\">\n",
       "  <thead>\n",
       "    <tr style=\"text-align: right;\">\n",
       "      <th></th>\n",
       "      <th>Model</th>\n",
       "      <th>train_accuracy</th>\n",
       "      <th>val_accuracy</th>\n",
       "    </tr>\n",
       "  </thead>\n",
       "  <tbody>\n",
       "    <tr>\n",
       "      <th>0</th>\n",
       "      <td>KNN</td>\n",
       "      <td>0.956798</td>\n",
       "      <td>0.943672</td>\n",
       "    </tr>\n",
       "    <tr>\n",
       "      <th>1</th>\n",
       "      <td>SVM</td>\n",
       "      <td>0.959145</td>\n",
       "      <td>0.947844</td>\n",
       "    </tr>\n",
       "    <tr>\n",
       "      <th>2</th>\n",
       "      <td>Logistic Regression</td>\n",
       "      <td>0.926113</td>\n",
       "      <td>0.911683</td>\n",
       "    </tr>\n",
       "  </tbody>\n",
       "</table>\n",
       "</div>"
      ]
     },
     "execution_count": 22,
     "metadata": {},
     "output_type": "execute_result"
    }
   ],
   "execution_count": 22
  },
  {
   "metadata": {},
   "cell_type": "markdown",
   "source": "### Model Assessment",
   "id": "e07a6c1a1924b136"
  },
  {
   "metadata": {
    "ExecuteTime": {
     "end_time": "2025-02-18T13:42:34.775162Z",
     "start_time": "2025-02-18T13:42:33.940557Z"
    }
   },
   "cell_type": "code",
   "source": [
    "accuracy = model_accuracy(SVM_final_model, y_test, X_test)\n",
    "print(f\"SVM model accuracy: {accuracy}\")"
   ],
   "id": "25193029cfe4dd3a",
   "outputs": [
    {
     "name": "stdout",
     "output_type": "stream",
     "text": [
      "SVM model accuracy: 0.9596662030598053\n"
     ]
    }
   ],
   "execution_count": 23
  },
  {
   "metadata": {
    "ExecuteTime": {
     "end_time": "2025-02-18T13:44:05.739336Z",
     "start_time": "2025-02-18T13:44:05.521901Z"
    }
   },
   "cell_type": "code",
   "source": [
    "accuracy = model_accuracy(KNN_final_model, y_test, X_test)\n",
    "print(f\"KNN model accuracy: {accuracy}\")"
   ],
   "id": "582f446931c379b",
   "outputs": [
    {
     "name": "stdout",
     "output_type": "stream",
     "text": [
      "KNN model accuracy: 0.958970792767733\n"
     ]
    }
   ],
   "execution_count": 24
  },
  {
   "metadata": {
    "ExecuteTime": {
     "end_time": "2025-02-18T13:44:09.161104Z",
     "start_time": "2025-02-18T13:44:09.150279Z"
    }
   },
   "cell_type": "code",
   "source": [
    "accuracy = model_accuracy(log_reg_final_model, y_test, X_test)\n",
    "print(f\"Logistic Regression model accuracy: {accuracy}\")"
   ],
   "id": "f239f9cf419a75a7",
   "outputs": [
    {
     "name": "stdout",
     "output_type": "stream",
     "text": [
      "Logistic Regression model accuracy: 0.9304589707927677\n"
     ]
    }
   ],
   "execution_count": 25
  },
  {
   "metadata": {},
   "cell_type": "markdown",
   "source": "### Save the model",
   "id": "d3e84d7db098802b"
  },
  {
   "metadata": {},
   "cell_type": "markdown",
   "source": "The best model after assessment is SVM model",
   "id": "96e0b96053d9144d"
  },
  {
   "metadata": {
    "ExecuteTime": {
     "end_time": "2025-02-18T13:53:51.302401Z",
     "start_time": "2025-02-18T13:53:50.842366Z"
    }
   },
   "cell_type": "code",
   "source": "save_model(SVM_final_model, \"../models\")",
   "id": "da9b602d46a5f8a9",
   "outputs": [],
   "execution_count": 28
  }
 ],
 "metadata": {
  "kernelspec": {
   "display_name": "Python 3",
   "language": "python",
   "name": "python3"
  },
  "language_info": {
   "codemirror_mode": {
    "name": "ipython",
    "version": 2
   },
   "file_extension": ".py",
   "mimetype": "text/x-python",
   "name": "python",
   "nbconvert_exporter": "python",
   "pygments_lexer": "ipython2",
   "version": "2.7.6"
  }
 },
 "nbformat": 4,
 "nbformat_minor": 5
}
